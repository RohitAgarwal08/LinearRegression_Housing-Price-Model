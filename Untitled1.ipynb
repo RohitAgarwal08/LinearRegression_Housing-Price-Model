{
  "nbformat": 4,
  "nbformat_minor": 0,
  "metadata": {
    "colab": {
      "name": "Untitled1.ipynb",
      "provenance": [],
      "collapsed_sections": [],
      "include_colab_link": true
    },
    "kernelspec": {
      "name": "python3",
      "display_name": "Python 3"
    }
  },
  "cells": [
    {
      "cell_type": "markdown",
      "metadata": {
        "id": "view-in-github",
        "colab_type": "text"
      },
      "source": [
        "<a href=\"https://colab.research.google.com/github/RohitAgarwal08/LinearRegression_Housing-Price-Model/blob/master/Untitled1.ipynb\" target=\"_parent\"><img src=\"https://colab.research.google.com/assets/colab-badge.svg\" alt=\"Open In Colab\"/></a>"
      ]
    },
    {
      "cell_type": "code",
      "metadata": {
        "id": "aflBKNiw4T4C",
        "colab_type": "code",
        "colab": {}
      },
      "source": [
        "import numpy as np\n",
        "import matplotlib.pyplot as plt\n",
        "\n",
        "data = np.loadtxt(\"/content/data.txt\",delimiter=\",\")\n",
        "\n",
        "data = np.array(data)\n",
        "np.set_printoptions(suppress=True,precision=2)\n",
        "X = data[:,:-1]\n",
        "Y = data[:,-1:]\n",
        "X[:,0]=X[:,0]/1000\n",
        "Y=Y/1000"
      ],
      "execution_count": 0,
      "outputs": []
    },
    {
      "cell_type": "code",
      "metadata": {
        "id": "cTjBuryh5qzl",
        "colab_type": "code",
        "colab": {}
      },
      "source": [
        "m,n = X.shape\n",
        "X_bias=np.ones((m,n+1))\n",
        "X_bias[:,1:] = X\n",
        "theta=np.ones((3,1))\n",
        "h = np.dot(X_bias,theta)"
      ],
      "execution_count": 0,
      "outputs": []
    },
    {
      "cell_type": "code",
      "metadata": {
        "id": "3wFvnSbU8kCA",
        "colab_type": "code",
        "colab": {
          "base_uri": "https://localhost:8080/",
          "height": 697
        },
        "outputId": "69fa0b81-780d-40a0-f0a4-960679bd2941"
      },
      "source": [
        "theta=np.ones((3,1))\n",
        "alpha = 0.01\n",
        "iterations = 4000\n",
        "J=0\n",
        "for i in range(iterations):\n",
        "  h = np.dot(X_bias,theta)\n",
        "  the = np.zeros((3,1))\n",
        "  J0=0\n",
        "  J1=0\n",
        "  J2=0\n",
        "  for j in range(m):\n",
        "    J0 = J0 + ((alpha/m) * ((h[j] - Y[j])*X_bias[j,0]))\n",
        "    J1 = J1 + ((alpha/m) * ((h[j] - Y[j])*X_bias[j,1]))\n",
        "    J2 = J2 + ((alpha/m) * ((h[j] - Y[j])*X_bias[j,2]))\n",
        "    J = J + (h[j]-Y[j])**2\n",
        "  J=(1 / (2 * m)) * J\n",
        "  if (i%100) == 0:\n",
        "    print(J)\n",
        "    #print(\"{:.2f}\".format(J))\n",
        "  theta[0,:] = theta[0,:] -J0\n",
        "  theta[1,:] = theta[1,:] -J1\n",
        "  theta[2,:] = theta[2,:] -J2"
      ],
      "execution_count": 42,
      "outputs": [
        {
          "output_type": "stream",
          "text": [
            "[63386.52]\n",
            "[3232.62]\n",
            "[2757.96]\n",
            "[2496.41]\n",
            "[2350.17]\n",
            "[2266.51]\n",
            "[2217.]\n",
            "[2186.29]\n",
            "[2166.09]\n",
            "[2151.88]\n",
            "[2141.21]\n",
            "[2132.73]\n",
            "[2125.68]\n",
            "[2119.64]\n",
            "[2114.34]\n",
            "[2109.64]\n",
            "[2105.44]\n",
            "[2101.65]\n",
            "[2098.24]\n",
            "[2095.15]\n",
            "[2092.35]\n",
            "[2089.82]\n",
            "[2087.52]\n",
            "[2085.44]\n",
            "[2083.56]\n",
            "[2081.85]\n",
            "[2080.3]\n",
            "[2078.89]\n",
            "[2077.62]\n",
            "[2076.47]\n",
            "[2075.42]\n",
            "[2074.47]\n",
            "[2073.61]\n",
            "[2072.83]\n",
            "[2072.12]\n",
            "[2071.48]\n",
            "[2070.9]\n",
            "[2070.37]\n",
            "[2069.89]\n",
            "[2069.46]\n"
          ],
          "name": "stdout"
        }
      ]
    },
    {
      "cell_type": "code",
      "metadata": {
        "id": "H7WwGhRl_94m",
        "colab_type": "code",
        "outputId": "db9d6e89-b877-4034-ab41-34006940afbc",
        "colab": {
          "base_uri": "https://localhost:8080/",
          "height": 34
        }
      },
      "source": [
        "X_test = np.array([[1,1.650,3]])\n",
        "price = np.dot(X_test,theta)\n",
        "print(price*1000)"
      ],
      "execution_count": 43,
      "outputs": [
        {
          "output_type": "stream",
          "text": [
            "[[291904.04]]\n"
          ],
          "name": "stdout"
        }
      ]
    }
  ]
}